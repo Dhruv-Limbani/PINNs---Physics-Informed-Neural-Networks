{
 "cells": [
  {
   "cell_type": "code",
   "execution_count": 40,
   "id": "68cf21a3",
   "metadata": {},
   "outputs": [],
   "source": [
    "import numpy\n",
    "from matplotlib import pyplot as plt\n",
    "from IPython.display import clear_output\n",
    "import cv2\n",
    "import imageio\n",
    "import io"
   ]
  },
  {
   "cell_type": "code",
   "execution_count": 12,
   "id": "0845dc8e",
   "metadata": {},
   "outputs": [],
   "source": [
    "length = 10             # length of rod in metres\n",
    "k = 0.89                # specific heat (for aluminium)\n",
    "\n",
    "# defining boundary conidtions\n",
    "temp_left = 100         # temperature of left end source\n",
    "temp_right = 200        # temperature of right end source\n",
    "\n",
    "total_sim_time = 10     # total simulation time"
   ]
  },
  {
   "cell_type": "code",
   "execution_count": 13,
   "id": "f9d6cee4",
   "metadata": {},
   "outputs": [],
   "source": [
    "dx = 0.1                # 0.1 m = 10 cm\n",
    "x_vector = numpy.linspace(0, length, int(length/dx))"
   ]
  },
  {
   "cell_type": "code",
   "execution_count": 14,
   "id": "4f0beb47",
   "metadata": {},
   "outputs": [
    {
     "data": {
      "text/plain": [
       "array([ 0.        ,  0.1010101 ,  0.2020202 ,  0.3030303 ,  0.4040404 ,\n",
       "        0.50505051,  0.60606061,  0.70707071,  0.80808081,  0.90909091,\n",
       "        1.01010101,  1.11111111,  1.21212121,  1.31313131,  1.41414141,\n",
       "        1.51515152,  1.61616162,  1.71717172,  1.81818182,  1.91919192,\n",
       "        2.02020202,  2.12121212,  2.22222222,  2.32323232,  2.42424242,\n",
       "        2.52525253,  2.62626263,  2.72727273,  2.82828283,  2.92929293,\n",
       "        3.03030303,  3.13131313,  3.23232323,  3.33333333,  3.43434343,\n",
       "        3.53535354,  3.63636364,  3.73737374,  3.83838384,  3.93939394,\n",
       "        4.04040404,  4.14141414,  4.24242424,  4.34343434,  4.44444444,\n",
       "        4.54545455,  4.64646465,  4.74747475,  4.84848485,  4.94949495,\n",
       "        5.05050505,  5.15151515,  5.25252525,  5.35353535,  5.45454545,\n",
       "        5.55555556,  5.65656566,  5.75757576,  5.85858586,  5.95959596,\n",
       "        6.06060606,  6.16161616,  6.26262626,  6.36363636,  6.46464646,\n",
       "        6.56565657,  6.66666667,  6.76767677,  6.86868687,  6.96969697,\n",
       "        7.07070707,  7.17171717,  7.27272727,  7.37373737,  7.47474747,\n",
       "        7.57575758,  7.67676768,  7.77777778,  7.87878788,  7.97979798,\n",
       "        8.08080808,  8.18181818,  8.28282828,  8.38383838,  8.48484848,\n",
       "        8.58585859,  8.68686869,  8.78787879,  8.88888889,  8.98989899,\n",
       "        9.09090909,  9.19191919,  9.29292929,  9.39393939,  9.49494949,\n",
       "        9.5959596 ,  9.6969697 ,  9.7979798 ,  9.8989899 , 10.        ])"
      ]
     },
     "execution_count": 14,
     "metadata": {},
     "output_type": "execute_result"
    }
   ],
   "source": [
    "x_vector    # denotes the rod divided into small pieces of equal length"
   ]
  },
  {
   "cell_type": "code",
   "execution_count": 15,
   "id": "c6d7855f",
   "metadata": {},
   "outputs": [],
   "source": [
    "dt = 0.0001\n",
    "t_vector = numpy.linspace(0, total_sim_time, int(total_sim_time/dt))"
   ]
  },
  {
   "cell_type": "code",
   "execution_count": 16,
   "id": "dbb83c95",
   "metadata": {},
   "outputs": [
    {
     "data": {
      "text/plain": [
       "array([0.00000e+00, 1.00001e-04, 2.00002e-04, ..., 9.99980e+00,\n",
       "       9.99990e+00, 1.00000e+01])"
      ]
     },
     "execution_count": 16,
     "metadata": {},
     "output_type": "execute_result"
    }
   ],
   "source": [
    "t_vector     # detones time divided into small equal intervals"
   ]
  },
  {
   "cell_type": "code",
   "execution_count": 17,
   "id": "39321ec7",
   "metadata": {},
   "outputs": [],
   "source": [
    "# initial conditions\n",
    "u = numpy.zeros([len(t_vector),len(x_vector)])"
   ]
  },
  {
   "cell_type": "code",
   "execution_count": 18,
   "id": "7bd1263a",
   "metadata": {},
   "outputs": [
    {
     "data": {
      "text/plain": [
       "(100000, 100)"
      ]
     },
     "execution_count": 18,
     "metadata": {},
     "output_type": "execute_result"
    }
   ],
   "source": [
    "u.shape"
   ]
  },
  {
   "cell_type": "code",
   "execution_count": 19,
   "id": "bac68105",
   "metadata": {},
   "outputs": [
    {
     "data": {
      "text/plain": [
       "array([[0., 0., 0., ..., 0., 0., 0.],\n",
       "       [0., 0., 0., ..., 0., 0., 0.],\n",
       "       [0., 0., 0., ..., 0., 0., 0.],\n",
       "       ...,\n",
       "       [0., 0., 0., ..., 0., 0., 0.],\n",
       "       [0., 0., 0., ..., 0., 0., 0.],\n",
       "       [0., 0., 0., ..., 0., 0., 0.]])"
      ]
     },
     "execution_count": 19,
     "metadata": {},
     "output_type": "execute_result"
    }
   ],
   "source": [
    "u"
   ]
  },
  {
   "cell_type": "markdown",
   "id": "5b6f8ac2",
   "metadata": {},
   "source": [
    "Each row denotes the vector of temperatures at time t\n",
    "and each column or a value in vector denotes the temperature at x\n",
    "\n",
    "for example: u[0,3] is temperature at x=3 and t=0"
   ]
  },
  {
   "cell_type": "code",
   "execution_count": 20,
   "id": "33453680",
   "metadata": {},
   "outputs": [],
   "source": [
    "# initializing boundary conditions\n",
    "u[:,0] = temp_left\n",
    "u[:,-1] = temp_right"
   ]
  },
  {
   "cell_type": "code",
   "execution_count": 21,
   "id": "56465fc4",
   "metadata": {},
   "outputs": [
    {
     "data": {
      "text/plain": [
       "array([[100.,   0.,   0., ...,   0.,   0., 200.],\n",
       "       [100.,   0.,   0., ...,   0.,   0., 200.],\n",
       "       [100.,   0.,   0., ...,   0.,   0., 200.],\n",
       "       ...,\n",
       "       [100.,   0.,   0., ...,   0.,   0., 200.],\n",
       "       [100.,   0.,   0., ...,   0.,   0., 200.],\n",
       "       [100.,   0.,   0., ...,   0.,   0., 200.]])"
      ]
     },
     "execution_count": 21,
     "metadata": {},
     "output_type": "execute_result"
    }
   ],
   "source": [
    "u"
   ]
  },
  {
   "cell_type": "code",
   "execution_count": 22,
   "id": "fb616dfb",
   "metadata": {},
   "outputs": [
    {
     "data": {
      "image/png": "[encoded data removed]",
      "text/plain": [
       "<Figure size 432x288 with 1 Axes>"
      ]
     },
     "metadata": {
      "needs_background": "light"
     },
     "output_type": "display_data"
    }
   ],
   "source": [
    "plt.plot(x_vector,u[0])\n",
    "plt.ylabel(\"temp\")\n",
    "plt.xlabel(\"x\")\n",
    "plt.show()"
   ]
  },
  {
   "cell_type": "code",
   "execution_count": 26,
   "id": "e09d657c",
   "metadata": {},
   "outputs": [],
   "source": [
    "for t in range(1,len(t_vector)-1):\n",
    "    for x in range(1,len(x_vector)-1):\n",
    "        u[t+1,x] = k*dt*((u[t,x+1] - 2*u[t,x] + u[t,x-1])/dx**2) + u[t,x]"
   ]
  },
  {
   "cell_type": "code",
   "execution_count": 27,
   "id": "5dce4308",
   "metadata": {},
   "outputs": [
    {
     "data": {
      "text/plain": [
       "array([[100.        ,   0.        ,   0.        , ...,   0.        ,\n",
       "          0.        , 200.        ],\n",
       "       [100.        ,   0.        ,   0.        , ...,   0.        ,\n",
       "          0.        , 200.        ],\n",
       "       [100.        ,   0.89      ,   0.        , ...,   0.        ,\n",
       "          1.78      , 200.        ],\n",
       "       ...,\n",
       "       [100.        ,  98.59123721,  97.1847561 , ..., 192.92058415,\n",
       "        196.4589255 , 200.        ],\n",
       "       [100.        ,  98.59125751,  97.1847967 , ..., 192.92063276,\n",
       "        196.45894983, 200.        ],\n",
       "       [100.        ,  98.59127782,  97.1848373 , ..., 192.92068138,\n",
       "        196.45897415, 200.        ]])"
      ]
     },
     "execution_count": 27,
     "metadata": {},
     "output_type": "execute_result"
    }
   ],
   "source": [
    "u"
   ]
  },
  {
   "cell_type": "code",
   "execution_count": 43,
   "id": "846176c5",
   "metadata": {},
   "outputs": [],
   "source": [
    "def get_img_from_fig(fig, dpi=180):\n",
    "    buf = io.BytesIO()\n",
    "    fig.savefig(buf, format=\"png\", dpi=dpi)\n",
    "    buf.seek(0)\n",
    "    img_arr = numpy.frombuffer(buf.getvalue(), dtype=numpy.uint8)\n",
    "    buf.close()\n",
    "    img = cv2.imdecode(img_arr, 1)\n",
    "    img = cv2.cvtColor(img, cv2.COLOR_BGR2RGB)\n",
    "    return img"
   ]
  },
  {
   "cell_type": "code",
   "execution_count": 45,
   "id": "6efce058",
   "metadata": {},
   "outputs": [
    {
     "data": {
      "image/png": "[encoded data removed]",
      "text/plain": [
       "<Figure size 432x288 with 1 Axes>"
      ]
     },
     "metadata": {
      "needs_background": "light"
     },
     "output_type": "display_data"
    }
   ],
   "source": [
    "images = []\n",
    "for i in range(0,u.shape[0],1000):\n",
    "    fig = plt.figure()\n",
    "    plt.plot(x_vector,u[i])\n",
    "    plt.ylabel(\"temp\")\n",
    "    plt.xlabel(\"x\")\n",
    "    plt.show()\n",
    "    images.append(get_img_from_fig(fig))\n",
    "    clear_output(wait=True)"
   ]
  },
  {
   "cell_type": "code",
   "execution_count": 46,
   "id": "16ac161f",
   "metadata": {},
   "outputs": [],
   "source": [
    "imageio.mimsave('sim_1D_heat_FDM.gif', images)"
   ]
  }
 ],
 "metadata": {
  "kernelspec": {
   "display_name": "Python 3 (ipykernel)",
   "language": "python",
   "name": "python3"
  },
  "language_info": {
   "codemirror_mode": {
    "name": "ipython",
    "version": 3
   },
   "file_extension": ".py",
   "mimetype": "text/x-python",
   "name": "python",
   "nbconvert_exporter": "python",
   "pygments_lexer": "ipython3",
   "version": "3.10.5"
  }
 },
 "nbformat": 4,
 "nbformat_minor": 5
}
