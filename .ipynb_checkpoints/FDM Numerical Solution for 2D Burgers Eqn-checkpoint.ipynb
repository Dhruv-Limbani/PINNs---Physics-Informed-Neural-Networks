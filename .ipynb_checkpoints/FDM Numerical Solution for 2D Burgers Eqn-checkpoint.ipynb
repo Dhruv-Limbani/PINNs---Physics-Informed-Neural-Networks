{
 "cells": [
  {
   "cell_type": "code",
   "execution_count": 34,
   "id": "5b019bf0",
   "metadata": {},
   "outputs": [],
   "source": [
    "import numpy as np\n",
    "import matplotlib.pyplot as plt\n",
    "import seaborn as sns\n",
    "from IPython.display import clear_output"
   ]
  },
  {
   "cell_type": "code",
   "execution_count": 20,
   "id": "88a98268",
   "metadata": {},
   "outputs": [],
   "source": [
    "nt = 500       # total runs\n",
    "nx = 51        # total points on x_axis\n",
    "ny = 51        # total points on y_axis\n",
    "\n",
    "nu = 0.1       \n",
    "dt = 0.001     # timesteps; total runtime = 500*0.001 = 0.5 secs\n",
    "\n",
    "dx = 2/(nx-1)  # since total domain length is 2 and we have nx-1 points\n",
    "dy = 2/(ny-1)"
   ]
  },
  {
   "cell_type": "code",
   "execution_count": 21,
   "id": "2051863a",
   "metadata": {},
   "outputs": [],
   "source": [
    "x = np.linspace(0,2,nx)\n",
    "y = np.linspace(0,2,ny)"
   ]
  },
  {
   "cell_type": "code",
   "execution_count": 22,
   "id": "930c6f36",
   "metadata": {},
   "outputs": [
    {
     "data": {
      "text/plain": [
       "array([0.  , 0.04, 0.08, 0.12, 0.16, 0.2 , 0.24, 0.28, 0.32, 0.36, 0.4 ,\n",
       "       0.44, 0.48, 0.52, 0.56, 0.6 , 0.64, 0.68, 0.72, 0.76, 0.8 , 0.84,\n",
       "       0.88, 0.92, 0.96, 1.  , 1.04, 1.08, 1.12, 1.16, 1.2 , 1.24, 1.28,\n",
       "       1.32, 1.36, 1.4 , 1.44, 1.48, 1.52, 1.56, 1.6 , 1.64, 1.68, 1.72,\n",
       "       1.76, 1.8 , 1.84, 1.88, 1.92, 1.96, 2.  ])"
      ]
     },
     "execution_count": 22,
     "metadata": {},
     "output_type": "execute_result"
    }
   ],
   "source": [
    "x"
   ]
  },
  {
   "cell_type": "code",
   "execution_count": 23,
   "id": "822d00df",
   "metadata": {},
   "outputs": [],
   "source": [
    "comb = np.zeros((ny,nx))  # 51 x 51 grid"
   ]
  },
  {
   "cell_type": "code",
   "execution_count": 24,
   "id": "09091159",
   "metadata": {},
   "outputs": [
    {
     "data": {
      "text/plain": [
       "array([[0., 0., 0., ..., 0., 0., 0.],\n",
       "       [0., 0., 0., ..., 0., 0., 0.],\n",
       "       [0., 0., 0., ..., 0., 0., 0.],\n",
       "       ...,\n",
       "       [0., 0., 0., ..., 0., 0., 0.],\n",
       "       [0., 0., 0., ..., 0., 0., 0.],\n",
       "       [0., 0., 0., ..., 0., 0., 0.]])"
      ]
     },
     "execution_count": 24,
     "metadata": {},
     "output_type": "execute_result"
    }
   ],
   "source": [
    "comb"
   ]
  },
  {
   "cell_type": "code",
   "execution_count": 25,
   "id": "96dcb788",
   "metadata": {},
   "outputs": [
    {
     "data": {
      "text/plain": [
       "(51, 51)"
      ]
     },
     "execution_count": 25,
     "metadata": {},
     "output_type": "execute_result"
    }
   ],
   "source": [
    "comb.shape"
   ]
  },
  {
   "cell_type": "code",
   "execution_count": 26,
   "id": "21e23e66",
   "metadata": {},
   "outputs": [],
   "source": [
    "# for storing current u,v\n",
    "u = np.zeros((ny,nx))\n",
    "v = np.zeros((ny,nx))\n",
    "\n",
    "# for storing u,v previous to current values\n",
    "un = np.zeros((ny,nx))\n",
    "vn = np.zeros((ny,nx))\n",
    "\n",
    "# for storing at all time steps\n",
    "uf = np.zeros((nt,ny,nx))\n",
    "vf = np.zeros((nt,ny,nx))"
   ]
  },
  {
   "cell_type": "code",
   "execution_count": 27,
   "id": "1f80edc4",
   "metadata": {},
   "outputs": [
    {
     "data": {
      "text/plain": [
       "((51, 51), (500, 51, 51))"
      ]
     },
     "execution_count": 27,
     "metadata": {},
     "output_type": "execute_result"
    }
   ],
   "source": [
    "u.shape, uf.shape"
   ]
  },
  {
   "cell_type": "code",
   "execution_count": 28,
   "id": "586ee566",
   "metadata": {},
   "outputs": [],
   "source": [
    "# initializing boundary conditions\n",
    "u = np.ones((ny,nx))\n",
    "v = np.ones((ny,nx))\n",
    "uf = np.ones((nt,ny,nx))\n",
    "vf = np.ones((nt,ny,nx))\n",
    "\n",
    "u[int(0.75/dy):int(1.25/dy+1),int(0.75/dx):int(1.25/dx+1)] = 5\n",
    "v[int(0.75/dy):int(1.25/dy+1),int(0.75/dx):int(1.25/dx+1)] = 5\n",
    "\n",
    "uf[0,int(0.75/dy):int(1.25/dy+1),int(0.75/dx):int(1.25/dx+1)] = 5\n",
    "vf[0,int(0.75/dy):int(1.25/dy+1),int(0.75/dx):int(1.25/dx+1)] = 5"
   ]
  },
  {
   "cell_type": "code",
   "execution_count": 29,
   "id": "988d8820",
   "metadata": {},
   "outputs": [
    {
     "data": {
      "image/png": "[encoded data removed]",
      "text/plain": [
       "<Figure size 576x432 with 2 Axes>"
      ]
     },
     "metadata": {
      "needs_background": "light"
     },
     "output_type": "display_data"
    }
   ],
   "source": [
    "X,Y = np.meshgrid(x,y)\n",
    "\n",
    "plt.figure(figsize=(8,6))\n",
    "contour = plt.contourf(X,Y,u[:],cmap='jet')\n",
    "plt.title(\"u velocity\")\n",
    "plt.xlabel(\"X\")\n",
    "plt.ylabel(\"Y\")\n",
    "colorbar = plt.colorbar(contour)\n",
    "colorbar.set_label(\"U scale\")"
   ]
  },
  {
   "cell_type": "code",
   "execution_count": 30,
   "id": "ee0f9601",
   "metadata": {},
   "outputs": [
    {
     "data": {
      "image/png": "[encoded data removed]",
      "text/plain": [
       "<Figure size 576x432 with 2 Axes>"
      ]
     },
     "metadata": {
      "needs_background": "light"
     },
     "output_type": "display_data"
    }
   ],
   "source": [
    "X,Y = np.meshgrid(x,y)\n",
    "\n",
    "plt.figure(figsize=(8,6))\n",
    "contour = plt.contourf(X,Y,v[:],cmap='jet')\n",
    "plt.title(\"v velocity\")\n",
    "plt.xlabel(\"X\")\n",
    "plt.ylabel(\"Y\")\n",
    "colorbar = plt.colorbar(contour)\n",
    "colorbar.set_label(\"V scale\")"
   ]
  },
  {
   "cell_type": "code",
   "execution_count": 31,
   "id": "158ea31b",
   "metadata": {},
   "outputs": [],
   "source": [
    "for n in range(1, nt):\n",
    "    un = u.copy()\n",
    "    vn = v.copy()\n",
    "    for i in range(1, nx-1):    # we don't start with 0 as it is for boundary condition\n",
    "        for j in range(1, ny-1):\n",
    "            u[i,j] = (un[i, j] -(un[i, j] * dt / dx * (un[i, j] - un[i-1, j])) -vn[i, j] * dt / dy * (un[i, j] - un[i, j-1])) + (nu*dt/(dx**2))*(un[i+1,j]-2*un[i,j]+un[i-1,j])+(nu*dt/(dx**2))*(un[i,j-1]-2*un[i,j]+un[i,j+1])\n",
    "            v[i,j] = (vn[i, j] -(un[i, j] * dt / dx * (vn[i, j] - vn[i-1, j]))-vn[i, j] * dt / dy * (vn[i, j] - vn[i, j-1])) + (nu*dt/(dx**2))*(vn[i+1,j]-2*vn[i,j]+vn[i-1,j])+(nu*dt/(dx**2))*(vn[i,j-1]-2*vn[i,j]+vn[i,j+1])\n",
    "            uf[n,i,j] = u[i,j]\n",
    "            vf[n,i,j] = v[i,j]\n",
    "    u[:,0] = 1\n",
    "    u[:,-1] = 1\n",
    "    u[0,:] = 1\n",
    "    u[-1:] = 1\n",
    "    v[:,0] = 1\n",
    "    v[:,-1] = 1\n",
    "    v[0,:] = 1\n",
    "    v[-1:] = 1"
   ]
  },
  {
   "cell_type": "code",
   "execution_count": 32,
   "id": "c4b65eda",
   "metadata": {},
   "outputs": [
    {
     "data": {
      "image/png": "[encoded data removed]",
      "text/plain": [
       "<Figure size 576x432 with 2 Axes>"
      ]
     },
     "metadata": {
      "needs_background": "light"
     },
     "output_type": "display_data"
    }
   ],
   "source": [
    "X,Y = np.meshgrid(x,y)\n",
    "\n",
    "plt.figure(figsize=(8,6))\n",
    "contour = plt.contourf(X,Y,u[:],cmap='jet')\n",
    "plt.title(\" u velocity\")\n",
    "plt.xlabel(\"X\")\n",
    "plt.ylabel(\"Y\")\n",
    "colorbar = plt.colorbar(contour)\n",
    "colorbar.set_label(\"u scale\")"
   ]
  },
  {
   "cell_type": "code",
   "execution_count": 33,
   "id": "7c2d492b",
   "metadata": {},
   "outputs": [
    {
     "data": {
      "image/png": "[encoded data removed]",
      "text/plain": [
       "<Figure size 576x432 with 2 Axes>"
      ]
     },
     "metadata": {
      "needs_background": "light"
     },
     "output_type": "display_data"
    }
   ],
   "source": [
    "X,Y = np.meshgrid(x,y)\n",
    "\n",
    "plt.figure(figsize=(8,6))\n",
    "contour = plt.contourf(X,Y,v[:],cmap='jet',levels = np.arange(1,5,0.5))\n",
    "plt.title(\" v velocity\")\n",
    "plt.xlabel(\"X\")\n",
    "plt.ylabel(\"Y\")\n",
    "colorbar = plt.colorbar(contour)\n",
    "colorbar.set_label(\"v scale\")"
   ]
  },
  {
   "cell_type": "code",
   "execution_count": 48,
   "id": "f44295ca",
   "metadata": {},
   "outputs": [
    {
     "data": {
      "image/png": "[encoded data removed]",
      "text/plain": [
       "<Figure size 576x432 with 2 Axes>"
      ]
     },
     "metadata": {
      "needs_background": "light"
     },
     "output_type": "display_data"
    }
   ],
   "source": [
    "for i in range(0,nt,10):\n",
    "    X,Y = np.meshgrid(x,y)\n",
    "    plt.figure(figsize=(8,6))\n",
    "    plt.contourf(X,Y,uf[i,:,:],cmap='jet',levels=np.arange(1,5.5,0.5))\n",
    "    plt.title(f\" u velocity at time: {round(dt*i,2)} secs\")\n",
    "    plt.xlabel(\"X\")\n",
    "    plt.ylabel(\"Y\")\n",
    "    plt.colorbar()\n",
    "    colorbar.set_label(\"u scale\")\n",
    "    plt.show()\n",
    "    clear_output(wait=True)"
   ]
  }
 ],
 "metadata": {
  "kernelspec": {
   "display_name": "Python 3 (ipykernel)",
   "language": "python",
   "name": "python3"
  },
  "language_info": {
   "codemirror_mode": {
    "name": "ipython",
    "version": 3
   },
   "file_extension": ".py",
   "mimetype": "text/x-python",
   "name": "python",
   "nbconvert_exporter": "python",
   "pygments_lexer": "ipython3",
   "version": "3.10.5"
  }
 },
 "nbformat": 4,
 "nbformat_minor": 5
}
