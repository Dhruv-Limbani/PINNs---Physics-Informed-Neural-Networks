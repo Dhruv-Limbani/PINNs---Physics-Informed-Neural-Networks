{
 "cells": [
  {
   "cell_type": "code",
   "execution_count": 1,
   "id": "aa4b38d0",
   "metadata": {},
   "outputs": [
    {
     "name": "stderr",
     "output_type": "stream",
     "text": [
      "C:\\Python310\\lib\\site-packages\\tqdm\\auto.py:22: TqdmWarning: IProgress not found. Please update jupyter and ipywidgets. See https://ipywidgets.readthedocs.io/en/stable/user_install.html\n",
      "  from .autonotebook import tqdm as notebook_tqdm\n"
     ]
    }
   ],
   "source": [
    "import torch"
   ]
  },
  {
   "cell_type": "code",
   "execution_count": 2,
   "id": "ca53d5d6",
   "metadata": {},
   "outputs": [
    {
     "name": "stdout",
     "output_type": "stream",
     "text": [
      "tensor([0.])\n"
     ]
    }
   ],
   "source": [
    "x = torch.empty(1)\n",
    "print(x)"
   ]
  },
  {
   "cell_type": "code",
   "execution_count": 3,
   "id": "300ebedd",
   "metadata": {},
   "outputs": [
    {
     "name": "stdout",
     "output_type": "stream",
     "text": [
      "tensor([0.0000e+00, 0.0000e+00, 1.4013e-45, 0.0000e+00])\n"
     ]
    }
   ],
   "source": [
    "x = torch.empty(4)\n",
    "print(x)"
   ]
  },
  {
   "cell_type": "code",
   "execution_count": 4,
   "id": "fb208f72",
   "metadata": {},
   "outputs": [
    {
     "name": "stdout",
     "output_type": "stream",
     "text": [
      "tensor([[[1.4013e-45, 0.0000e+00, 2.5502e-31, 6.3899e-43, 2.4052e-31],\n",
      "         [6.3899e-43, 0.0000e+00, 0.0000e+00, 3.5267e-31, 6.3899e-43],\n",
      "         [3.4382e+36, 6.3899e-43, 1.9283e+35, 6.3899e-43, 1.4013e-45]],\n",
      "\n",
      "        [[0.0000e+00, 5.6052e-45, 0.0000e+00, 0.0000e+00, 0.0000e+00],\n",
      "         [0.0000e+00, 0.0000e+00, 0.0000e+00, 0.0000e+00, 0.0000e+00],\n",
      "         [0.0000e+00, 1.4013e-45, 0.0000e+00, 0.0000e+00, 0.0000e+00]]])\n"
     ]
    }
   ],
   "source": [
    "x = torch.empty(2,3,5)\n",
    "print(x)"
   ]
  },
  {
   "cell_type": "code",
   "execution_count": 6,
   "id": "1ac5f5bc",
   "metadata": {},
   "outputs": [
    {
     "name": "stdout",
     "output_type": "stream",
     "text": [
      "tensor([[[[ 4.6114e+24,  1.2123e+25,  4.4173e+21,  7.2251e+28,  1.3556e-19],\n",
      "          [ 1.3563e-19,  1.3563e-19,  4.7689e+33,  1.8337e+31,  1.4821e+25],\n",
      "          [ 6.4642e-04,  4.3030e+21,  2.8231e+23,  7.4451e+34,  1.7889e+22],\n",
      "          [ 1.1446e+24,  1.7751e+28,  1.8943e+23,  5.0848e+31,  2.0618e-19]],\n",
      "\n",
      "         [[ 7.6267e+28,  1.8465e+25,  6.6652e-33,  1.3563e-19,  1.3563e-19],\n",
      "          [ 3.0981e+32,  1.1726e-19,  1.3563e-19,  1.3563e-19,  1.0008e+01],\n",
      "          [ 1.5795e-19,  1.9432e-19,  2.9965e+32,  7.1463e+22,  1.8759e+28],\n",
      "          [ 7.3968e+20,  4.6114e+24,  6.9987e+22,  1.7665e+22,  1.2089e+33]],\n",
      "\n",
      "         [[ 7.1428e+31,  1.1480e-32,  1.3563e-19,  1.3563e-19,  8.5980e-13],\n",
      "          [ 2.5353e+30,  8.5479e-44,  2.7065e-41,  2.6573e+30,  4.6243e-44],\n",
      "          [ 2.7423e-41,  4.5408e-39,  1.4086e-08,  9.0072e+15,  1.1095e+27],\n",
      "          [ 1.1039e+21,  1.5836e+20,  1.7539e+19,  1.1286e+27,  1.2357e-41]]],\n",
      "\n",
      "\n",
      "        [[[ 3.1633e-39,  1.3119e-17, -9.0072e+15,  1.0899e+27,  7.0060e+22],\n",
      "          [ 1.7665e+22,  3.4332e-43,  2.3135e-42,  1.7753e-30,  1.6755e+35],\n",
      "          [ 7.5516e+31,  4.7625e+30,  4.5448e+30,  1.0899e+27,  7.0060e+22],\n",
      "          [ 1.7665e+22,  1.5737e-42,  0.0000e+00,  0.0000e+00,  1.7937e-42]],\n",
      "\n",
      "         [[ 1.4349e-42,  2.4035e-41,  3.5310e-39,  1.0653e-38,  4.4817e-38],\n",
      "          [ 1.8282e-34,  4.7755e-38,  2.3510e-37,  5.9144e-38,  2.9625e-36],\n",
      "          [ 9.6436e-39,  6.0249e-38,  7.6229e-39, -4.3522e+27,  6.1630e-33],\n",
      "          [ 1.3563e-19,  1.3563e-19,  4.2330e+21,  1.9436e-19,  6.4600e+19]],\n",
      "\n",
      "         [[ 1.1431e+27,  1.7667e+22,  6.6127e+19,  7.3697e+28,  1.8492e+20],\n",
      "          [ 3.1769e+30,  4.8617e+30,  4.6114e+24,  7.1463e+22,  7.4937e+31],\n",
      "          [ 1.1692e-19,  1.3563e-19,  1.0008e+01,  9.2851e-04,  1.3563e-19],\n",
      "          [ 1.3563e-19,  1.3563e-19,  4.4656e+30,  2.0701e-19,  4.4631e+30]]]])\n"
     ]
    }
   ],
   "source": [
    "x = torch.empty(2,3,4,5)\n",
    "print(x)"
   ]
  },
  {
   "cell_type": "code",
   "execution_count": 7,
   "id": "25b8cb46",
   "metadata": {},
   "outputs": [
    {
     "name": "stdout",
     "output_type": "stream",
     "text": [
      "tensor([[0.0415, 0.8106, 0.3450],\n",
      "        [0.9318, 0.9550, 0.1770],\n",
      "        [0.6249, 0.4026, 0.1966]])\n"
     ]
    }
   ],
   "source": [
    "x = torch.rand(3,3)\n",
    "print(x)"
   ]
  },
  {
   "cell_type": "code",
   "execution_count": 8,
   "id": "f64785b1",
   "metadata": {},
   "outputs": [
    {
     "name": "stdout",
     "output_type": "stream",
     "text": [
      "tensor([[0., 0., 0.],\n",
      "        [0., 0., 0.],\n",
      "        [0., 0., 0.]])\n"
     ]
    }
   ],
   "source": [
    "x = torch.zeros(3,3)\n",
    "print(x)"
   ]
  },
  {
   "cell_type": "code",
   "execution_count": 9,
   "id": "866ef0f9",
   "metadata": {},
   "outputs": [
    {
     "name": "stdout",
     "output_type": "stream",
     "text": [
      "tensor([[1., 1., 1.],\n",
      "        [1., 1., 1.],\n",
      "        [1., 1., 1.]])\n"
     ]
    }
   ],
   "source": [
    "x = torch.ones(3,3)\n",
    "print(x)"
   ]
  },
  {
   "cell_type": "code",
   "execution_count": 10,
   "id": "e9f95d7f",
   "metadata": {},
   "outputs": [
    {
     "name": "stdout",
     "output_type": "stream",
     "text": [
      "tensor([[1, 1, 1],\n",
      "        [1, 1, 1],\n",
      "        [1, 1, 1]], dtype=torch.int8)\n"
     ]
    }
   ],
   "source": [
    "x = torch.ones(3,3, dtype=torch.int8)\n",
    "print(x)"
   ]
  },
  {
   "cell_type": "code",
   "execution_count": 11,
   "id": "bae965e5",
   "metadata": {},
   "outputs": [
    {
     "name": "stdout",
     "output_type": "stream",
     "text": [
      "tensor([1.5000, 3.0000])\n"
     ]
    }
   ],
   "source": [
    "a = [1.5, 3]\n",
    "x = torch.tensor(a)\n",
    "print(x)"
   ]
  },
  {
   "cell_type": "code",
   "execution_count": 12,
   "id": "483d926f",
   "metadata": {},
   "outputs": [
    {
     "name": "stdout",
     "output_type": "stream",
     "text": [
      "tensor([[0.3235, 0.5126],\n",
      "        [0.6777, 0.4224]])\n",
      "tensor([[0.2460, 0.9091],\n",
      "        [0.9239, 0.3749]])\n",
      "tensor([[0.0796, 0.4660],\n",
      "        [0.6262, 0.1584]])\n",
      "tensor([[0.0796, 0.4660],\n",
      "        [0.6262, 0.1584]])\n"
     ]
    }
   ],
   "source": [
    "x = torch.rand(2,2)\n",
    "y = torch.rand(2,2)\n",
    "print(x)\n",
    "print(y)\n",
    "z = x*y\n",
    "print(z)\n",
    "z = torch.mul(x,y)\n",
    "print(z)"
   ]
  },
  {
   "cell_type": "code",
   "execution_count": 13,
   "id": "06abb5df",
   "metadata": {},
   "outputs": [
    {
     "name": "stdout",
     "output_type": "stream",
     "text": [
      "tensor([[0.5695, 1.4216],\n",
      "        [1.6017, 0.7973]])\n",
      "tensor([[0.5695, 1.4216],\n",
      "        [1.6017, 0.7973]])\n"
     ]
    }
   ],
   "source": [
    "z = x+y\n",
    "print(z)\n",
    "z = torch.add(x,y)\n",
    "print(z)"
   ]
  },
  {
   "cell_type": "code",
   "execution_count": 14,
   "id": "32389e84",
   "metadata": {},
   "outputs": [
    {
     "name": "stdout",
     "output_type": "stream",
     "text": [
      "tensor([[ 0.0775, -0.3965],\n",
      "        [-0.2462,  0.0475]])\n",
      "tensor([[ 0.0775, -0.3965],\n",
      "        [-0.2462,  0.0475]])\n"
     ]
    }
   ],
   "source": [
    "z = x-y\n",
    "print(z)\n",
    "z = torch.sub(x,y)\n",
    "print(z)"
   ]
  },
  {
   "cell_type": "code",
   "execution_count": 15,
   "id": "98f13edc",
   "metadata": {},
   "outputs": [
    {
     "name": "stdout",
     "output_type": "stream",
     "text": [
      "tensor([[1.3152, 0.5638],\n",
      "        [0.7335, 1.1267]])\n",
      "tensor([[1.3152, 0.5638],\n",
      "        [0.7335, 1.1267]])\n"
     ]
    }
   ],
   "source": [
    "z = x/y\n",
    "print(z)\n",
    "z = torch.div(x,y)\n",
    "print(z)"
   ]
  },
  {
   "cell_type": "code",
   "execution_count": 16,
   "id": "03b7038f",
   "metadata": {},
   "outputs": [
    {
     "name": "stdout",
     "output_type": "stream",
     "text": [
      "tensor([[0.6457, 0.8747, 0.4666],\n",
      "        [0.6712, 0.1824, 0.8579],\n",
      "        [0.0481, 0.2457, 0.6045],\n",
      "        [0.3664, 0.5297, 0.1242],\n",
      "        [0.4007, 0.9554, 0.5004]])\n"
     ]
    }
   ],
   "source": [
    "x = torch.rand(5,3)\n",
    "print(x)"
   ]
  },
  {
   "cell_type": "code",
   "execution_count": 17,
   "id": "8603f0fd",
   "metadata": {},
   "outputs": [
    {
     "name": "stdout",
     "output_type": "stream",
     "text": [
      "tensor([0.6457, 0.6712, 0.0481, 0.3664, 0.4007])\n"
     ]
    }
   ],
   "source": [
    "print(x[:,0])"
   ]
  },
  {
   "cell_type": "code",
   "execution_count": 18,
   "id": "f115637d",
   "metadata": {},
   "outputs": [
    {
     "name": "stdout",
     "output_type": "stream",
     "text": [
      "tensor([0.1824, 0.2457, 0.5297])\n"
     ]
    }
   ],
   "source": [
    "print(x[1:4,1])"
   ]
  },
  {
   "cell_type": "code",
   "execution_count": 20,
   "id": "8ae92471",
   "metadata": {},
   "outputs": [
    {
     "name": "stdout",
     "output_type": "stream",
     "text": [
      "tensor(0.6457)\n",
      "0.6456634402275085\n"
     ]
    }
   ],
   "source": [
    "print(x[0,0])\n",
    "print(x[0,0].item())"
   ]
  },
  {
   "cell_type": "code",
   "execution_count": 21,
   "id": "f1828b88",
   "metadata": {},
   "outputs": [
    {
     "name": "stdout",
     "output_type": "stream",
     "text": [
      "tensor([[0.3054, 0.3118, 0.5949, 0.9360],\n",
      "        [0.9406, 0.9168, 0.3014, 0.0034],\n",
      "        [0.5046, 0.2107, 0.5134, 0.2937],\n",
      "        [0.7986, 0.9444, 0.6576, 0.0455]])\n"
     ]
    }
   ],
   "source": [
    "x = torch.rand(4,4)\n",
    "print(x)"
   ]
  },
  {
   "cell_type": "code",
   "execution_count": 22,
   "id": "298a2d46",
   "metadata": {},
   "outputs": [
    {
     "name": "stdout",
     "output_type": "stream",
     "text": [
      "tensor([0.3054, 0.3118, 0.5949, 0.9360, 0.9406, 0.9168, 0.3014, 0.0034, 0.5046,\n",
      "        0.2107, 0.5134, 0.2937, 0.7986, 0.9444, 0.6576, 0.0455])\n"
     ]
    }
   ],
   "source": [
    "y = x.view(16)\n",
    "print(y)"
   ]
  },
  {
   "cell_type": "code",
   "execution_count": 23,
   "id": "10829f49",
   "metadata": {},
   "outputs": [
    {
     "name": "stdout",
     "output_type": "stream",
     "text": [
      "tensor([[0.3054, 0.3118, 0.5949, 0.9360, 0.9406, 0.9168, 0.3014, 0.0034],\n",
      "        [0.5046, 0.2107, 0.5134, 0.2937, 0.7986, 0.9444, 0.6576, 0.0455]])\n"
     ]
    }
   ],
   "source": [
    "y = x.view(2,8)\n",
    "print(y)"
   ]
  },
  {
   "cell_type": "code",
   "execution_count": 24,
   "id": "ebeea224",
   "metadata": {},
   "outputs": [
    {
     "name": "stdout",
     "output_type": "stream",
     "text": [
      "tensor([[0.3054, 0.3118, 0.5949, 0.9360, 0.9406, 0.9168, 0.3014, 0.0034],\n",
      "        [0.5046, 0.2107, 0.5134, 0.2937, 0.7986, 0.9444, 0.6576, 0.0455]])\n"
     ]
    }
   ],
   "source": [
    "y = x.view(-1,8)\n",
    "print(y)"
   ]
  }
 ],
 "metadata": {
  "kernelspec": {
   "display_name": "Python 3 (ipykernel)",
   "language": "python",
   "name": "python3"
  },
  "language_info": {
   "codemirror_mode": {
    "name": "ipython",
    "version": 3
   },
   "file_extension": ".py",
   "mimetype": "text/x-python",
   "name": "python",
   "nbconvert_exporter": "python",
   "pygments_lexer": "ipython3",
   "version": "3.10.5"
  }
 },
 "nbformat": 4,
 "nbformat_minor": 5
}
